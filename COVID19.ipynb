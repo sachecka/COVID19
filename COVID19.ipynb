{
 "cells": [
  {
   "cell_type": "code",
   "execution_count": 1,
   "metadata": {},
   "outputs": [],
   "source": [
    "import numpy as np\n",
    "import pandas as pd\n",
    "import seaborn as sns\n",
    "import matplotlib.pyplot as plt"
   ]
  },
  {
   "cell_type": "code",
   "execution_count": 2,
   "metadata": {},
   "outputs": [],
   "source": [
    "inf = pd.read_csv(\"https://raw.githubusercontent.com/CSSEGISandData/COVID-19/master/csse_covid_19_data/csse_covid_19_time_series/time_series_covid19_confirmed_global.csv\")"
   ]
  },
  {
   "cell_type": "code",
   "execution_count": 3,
   "metadata": {},
   "outputs": [],
   "source": [
    "#Drop Lat, Long and Province/State columns\n",
    "inf.drop(inf.columns[[0, 2, 3]], axis=1, inplace=True)\n",
    "#Rename the country column name\n",
    "inf.rename(columns={'Country/Region':'Country'}, inplace=True)\n",
    "#Group by country to get the sums\n",
    "inf_g = inf.groupby('Country').sum()\n",
    "#Unpivot the data to have the dates in a single column and values in another\n",
    "inf_g = inf_g.unstack().reset_index(name='value')\n",
    "#Rename the columns to appropriate names\n",
    "inf_g.rename(columns={'level_0':'Date','value':'TotalInfected'}, inplace=True)"
   ]
  },
  {
   "cell_type": "code",
   "execution_count": 4,
   "metadata": {},
   "outputs": [],
   "source": [
    "dead=pd.read_csv('https://raw.githubusercontent.com/CSSEGISandData/COVID-19/master/csse_covid_19_data/csse_covid_19_time_series/time_series_covid19_deaths_global.csv')"
   ]
  },
  {
   "cell_type": "code",
   "execution_count": 5,
   "metadata": {},
   "outputs": [],
   "source": [
    "dead.drop(dead.columns[[0, 2, 3]], axis=1, inplace=True)\n",
    "dead.rename(columns={'Country/Region':'Country'}, inplace=True)\n",
    "dead_g = dead.groupby('Country').sum()\n",
    "dead_g = dead_g.unstack().reset_index(name='value')\n",
    "dead_g.rename(columns={'level_0':'Date','value':'TotalDeaths'}, inplace=True)"
   ]
  },
  {
   "cell_type": "code",
   "execution_count": 6,
   "metadata": {},
   "outputs": [],
   "source": [
    "recov = pd.read_csv('https://raw.githubusercontent.com/CSSEGISandData/COVID-19/master/csse_covid_19_data/csse_covid_19_time_series/time_series_covid19_recovered_global.csv')"
   ]
  },
  {
   "cell_type": "code",
   "execution_count": 7,
   "metadata": {},
   "outputs": [],
   "source": [
    "recov.drop(recov.columns[[0, 2, 3]], axis=1, inplace=True)\n",
    "recov.rename(columns={'Country/Region':'Country'}, inplace=True)\n",
    "recov_g = recov.groupby('Country').sum()\n",
    "recov_g = recov_g.unstack().reset_index(name='value')\n",
    "recov_g.rename(columns={'level_0':'Date','value':'TotalRecovered'}, inplace=True)"
   ]
  },
  {
   "cell_type": "code",
   "execution_count": 8,
   "metadata": {},
   "outputs": [],
   "source": [
    "#Merging all the 3 data frames together\n",
    "covid = pd.merge(pd.merge(inf_g, dead_g, how='inner', on=['Country','Date']), recov_g, how='inner',on=['Country','Date'])"
   ]
  },
  {
   "cell_type": "code",
   "execution_count": 9,
   "metadata": {},
   "outputs": [],
   "source": [
    "#Convert the Date field to date datatype\n",
    "covid['Date']= pd.to_datetime(covid['Date'])"
   ]
  },
  {
   "cell_type": "code",
   "execution_count": 10,
   "metadata": {},
   "outputs": [],
   "source": [
    "#Ordering and sorting the columns in the dataframe\n",
    "covid = covid[covid.columns[[1,0,2,3,4]]].sort_values(by=['Country','Date'])"
   ]
  },
  {
   "cell_type": "code",
   "execution_count": 11,
   "metadata": {},
   "outputs": [],
   "source": [
    "#Adding day numbers to the dataset\n",
    "covid['Day']=covid[covid['TotalInfected']>0].groupby('Country')['Date'].rank(ascending=True).astype(int)"
   ]
  },
  {
   "cell_type": "code",
   "execution_count": 12,
   "metadata": {},
   "outputs": [],
   "source": [
    "#Adding daily numbers\n",
    "covid['Infected'] = covid.groupby('Country')['TotalInfected'].diff(periods=1)\n",
    "covid['Deaths'] = covid.groupby('Country')['TotalDeaths'].diff(periods=1)\n",
    "covid['Recovered'] = covid.groupby('Country')['TotalRecovered'].diff(periods=1)"
   ]
  },
  {
   "cell_type": "code",
   "execution_count": 13,
   "metadata": {},
   "outputs": [
    {
     "data": {
      "text/plain": [
       "<matplotlib.axes._subplots.AxesSubplot at 0x1204beb0>"
      ]
     },
     "execution_count": 13,
     "metadata": {},
     "output_type": "execute_result"
    },
    {
     "data": {
      "image/png": "[encoded data removed]",
      "text/plain": [
       "<Figure size 432x288 with 1 Axes>"
      ]
     },
     "metadata": {
      "needs_background": "light"
     },
     "output_type": "display_data"
    }
   ],
   "source": [
    "sns.lineplot(x='Day',y='Infected',data=covid[(covid['TotalInfected']>0) & (covid['Country']=='India')])"
   ]
  },
  {
   "cell_type": "code",
   "execution_count": 14,
   "metadata": {},
   "outputs": [],
   "source": [
    "#Fixing Country Names\n",
    "covid.loc[covid['Country']=='US','Country'] ='United States'\n",
    "covid.loc[covid['Country']=='Brunei','Country'] ='Brunei '\n",
    "covid.loc[covid['Country']=='Burma','Country'] ='Myanmar'\n",
    "covid.loc[covid['Country']=='Congo (Brazzaville)','Country'] ='Congo'\n",
    "covid.loc[covid['Country']=='Congo (Kinshasa)','Country'] ='DR Congo'\n",
    "covid.loc[covid['Country']=='Czechia','Country'] ='Czech Republic (Czechia)'\n",
    "covid.loc[covid['Country']=='Korea, South','Country'] ='South Korea'\n",
    "covid.loc[covid['Country']=='Taiwan*','Country'] ='Taiwan'"
   ]
  },
  {
   "cell_type": "code",
   "execution_count": 15,
   "metadata": {},
   "outputs": [],
   "source": [
    "#get world population data\n",
    "from bs4 import BeautifulSoup\n",
    "import requests\n"
   ]
  },
  {
   "cell_type": "code",
   "execution_count": 16,
   "metadata": {},
   "outputs": [],
   "source": [
    "url = 'https://www.worldometers.info/world-population/population-by-country/'\n",
    "html_content = requests.get(url).text\n",
    "\n",
    "# Parse the html content\n",
    "soup = BeautifulSoup(html_content, \"lxml\")\n",
    "#print(soup.prettify()) # print the parsed data of html"
   ]
  },
  {
   "cell_type": "code",
   "execution_count": 17,
   "metadata": {
    "scrolled": false
   },
   "outputs": [],
   "source": [
    "pop_table = soup.find(\"table\", attrs={\"id\": \"example2\"})\n",
    "pop_table_data = pop_table.tbody.find_all(\"tr\")\n",
    "#pop_table_data"
   ]
  },
  {
   "cell_type": "code",
   "execution_count": 18,
   "metadata": {},
   "outputs": [],
   "source": [
    "# Get all the headings of Lists\n",
    "t_headers = []\n",
    "for th in pop_table.find_all(\"th\"):\n",
    "    # remove any newlines and extra spaces from left and right\n",
    "    t_headers.append(th.text)\n",
    "#t_headers"
   ]
  },
  {
   "cell_type": "code",
   "execution_count": 19,
   "metadata": {},
   "outputs": [],
   "source": [
    "data = {}\n",
    "table_data = []\n",
    "for tr in pop_table.tbody.find_all(\"tr\"):\n",
    "    t_row = {}\n",
    "    for td, th in zip(tr.find_all(\"td\"), t_headers): \n",
    "            t_row[th] = td.text\n",
    "            table_data.append(t_row)\n",
    "        # Put the data for the table with his heading.\n",
    "\n",
    "pop_df = pd.DataFrame(table_data)"
   ]
  },
  {
   "cell_type": "code",
   "execution_count": 20,
   "metadata": {},
   "outputs": [],
   "source": [
    "pop_df = pop_df.drop_duplicates()\n",
    "pop_df.rename(columns={'Country (or dependency)':'Country'}, inplace=True)\n",
    "#pop_df\n"
   ]
  },
  {
   "cell_type": "code",
   "execution_count": 21,
   "metadata": {},
   "outputs": [],
   "source": [
    "covid = pd.merge(covid, pop_df[['Country','Population (2020)']], how='left', on='Country')"
   ]
  },
  {
   "cell_type": "code",
   "execution_count": 22,
   "metadata": {},
   "outputs": [],
   "source": [
    "covid['InfectedRank']=covid.groupby(['Date'])['TotalInfected'].rank(method='max',ascending=False,na_option='bottom')\n",
    "covid['DeathRank']=covid.groupby(['Date'])['TotalDeaths'].rank(method='max',ascending=False,na_option='bottom')\n",
    "covid['RecoveredRank']=covid.groupby(['Date'])['TotalRecovered'].rank(method='max',ascending=False,na_option='bottom')\n",
    "covid['Population (2020)'].fillna(0,inplace=True)"
   ]
  },
  {
   "cell_type": "code",
   "execution_count": 23,
   "metadata": {},
   "outputs": [],
   "source": [
    "nonCountryList=covid.loc[covid['Population (2020)']==0,'Country'].unique()\n",
    "covid['CoutryFlag']=covid['Country'].apply(lambda x: 0 if x in nonCountryList else 1)"
   ]
  },
  {
   "cell_type": "code",
   "execution_count": 24,
   "metadata": {},
   "outputs": [
    {
     "data": {
      "text/html": [
       "<div>\n",
       "<style scoped>\n",
       "    .dataframe tbody tr th:only-of-type {\n",
       "        vertical-align: middle;\n",
       "    }\n",
       "\n",
       "    .dataframe tbody tr th {\n",
       "        vertical-align: top;\n",
       "    }\n",
       "\n",
       "    .dataframe thead th {\n",
       "        text-align: right;\n",
       "    }\n",
       "</style>\n",
       "<table border=\"1\" class=\"dataframe\">\n",
       "  <thead>\n",
       "    <tr style=\"text-align: right;\">\n",
       "      <th></th>\n",
       "      <th>Country</th>\n",
       "      <th>Date</th>\n",
       "      <th>TotalInfected</th>\n",
       "      <th>TotalDeaths</th>\n",
       "      <th>TotalRecovered</th>\n",
       "      <th>Day</th>\n",
       "      <th>Infected</th>\n",
       "      <th>Deaths</th>\n",
       "      <th>Recovered</th>\n",
       "      <th>Population (2020)</th>\n",
       "      <th>InfectedRank</th>\n",
       "      <th>DeathRank</th>\n",
       "      <th>RecoveredRank</th>\n",
       "      <th>CoutryFlag</th>\n",
       "    </tr>\n",
       "  </thead>\n",
       "  <tbody>\n",
       "    <tr>\n",
       "      <th>9164</th>\n",
       "      <td>India</td>\n",
       "      <td>2020-01-22</td>\n",
       "      <td>0</td>\n",
       "      <td>0</td>\n",
       "      <td>0</td>\n",
       "      <td>NaN</td>\n",
       "      <td>NaN</td>\n",
       "      <td>NaN</td>\n",
       "      <td>NaN</td>\n",
       "      <td>1,380,004,385</td>\n",
       "      <td>188.0</td>\n",
       "      <td>188.0</td>\n",
       "      <td>188.0</td>\n",
       "      <td>1</td>\n",
       "    </tr>\n",
       "    <tr>\n",
       "      <th>9165</th>\n",
       "      <td>India</td>\n",
       "      <td>2020-01-23</td>\n",
       "      <td>0</td>\n",
       "      <td>0</td>\n",
       "      <td>0</td>\n",
       "      <td>NaN</td>\n",
       "      <td>0.0</td>\n",
       "      <td>0.0</td>\n",
       "      <td>0.0</td>\n",
       "      <td>1,380,004,385</td>\n",
       "      <td>188.0</td>\n",
       "      <td>188.0</td>\n",
       "      <td>188.0</td>\n",
       "      <td>1</td>\n",
       "    </tr>\n",
       "    <tr>\n",
       "      <th>9166</th>\n",
       "      <td>India</td>\n",
       "      <td>2020-01-24</td>\n",
       "      <td>0</td>\n",
       "      <td>0</td>\n",
       "      <td>0</td>\n",
       "      <td>NaN</td>\n",
       "      <td>0.0</td>\n",
       "      <td>0.0</td>\n",
       "      <td>0.0</td>\n",
       "      <td>1,380,004,385</td>\n",
       "      <td>188.0</td>\n",
       "      <td>188.0</td>\n",
       "      <td>188.0</td>\n",
       "      <td>1</td>\n",
       "    </tr>\n",
       "    <tr>\n",
       "      <th>9167</th>\n",
       "      <td>India</td>\n",
       "      <td>2020-01-25</td>\n",
       "      <td>0</td>\n",
       "      <td>0</td>\n",
       "      <td>0</td>\n",
       "      <td>NaN</td>\n",
       "      <td>0.0</td>\n",
       "      <td>0.0</td>\n",
       "      <td>0.0</td>\n",
       "      <td>1,380,004,385</td>\n",
       "      <td>188.0</td>\n",
       "      <td>188.0</td>\n",
       "      <td>188.0</td>\n",
       "      <td>1</td>\n",
       "    </tr>\n",
       "    <tr>\n",
       "      <th>9168</th>\n",
       "      <td>India</td>\n",
       "      <td>2020-01-26</td>\n",
       "      <td>0</td>\n",
       "      <td>0</td>\n",
       "      <td>0</td>\n",
       "      <td>NaN</td>\n",
       "      <td>0.0</td>\n",
       "      <td>0.0</td>\n",
       "      <td>0.0</td>\n",
       "      <td>1,380,004,385</td>\n",
       "      <td>188.0</td>\n",
       "      <td>188.0</td>\n",
       "      <td>188.0</td>\n",
       "      <td>1</td>\n",
       "    </tr>\n",
       "    <tr>\n",
       "      <th>...</th>\n",
       "      <td>...</td>\n",
       "      <td>...</td>\n",
       "      <td>...</td>\n",
       "      <td>...</td>\n",
       "      <td>...</td>\n",
       "      <td>...</td>\n",
       "      <td>...</td>\n",
       "      <td>...</td>\n",
       "      <td>...</td>\n",
       "      <td>...</td>\n",
       "      <td>...</td>\n",
       "      <td>...</td>\n",
       "      <td>...</td>\n",
       "      <td>...</td>\n",
       "    </tr>\n",
       "    <tr>\n",
       "      <th>9275</th>\n",
       "      <td>India</td>\n",
       "      <td>2020-05-12</td>\n",
       "      <td>74292</td>\n",
       "      <td>2415</td>\n",
       "      <td>24420</td>\n",
       "      <td>104.0</td>\n",
       "      <td>3524.0</td>\n",
       "      <td>121.0</td>\n",
       "      <td>1871.0</td>\n",
       "      <td>1,380,004,385</td>\n",
       "      <td>12.0</td>\n",
       "      <td>16.0</td>\n",
       "      <td>14.0</td>\n",
       "      <td>1</td>\n",
       "    </tr>\n",
       "    <tr>\n",
       "      <th>9276</th>\n",
       "      <td>India</td>\n",
       "      <td>2020-05-13</td>\n",
       "      <td>78055</td>\n",
       "      <td>2551</td>\n",
       "      <td>26400</td>\n",
       "      <td>105.0</td>\n",
       "      <td>3763.0</td>\n",
       "      <td>136.0</td>\n",
       "      <td>1980.0</td>\n",
       "      <td>1,380,004,385</td>\n",
       "      <td>12.0</td>\n",
       "      <td>16.0</td>\n",
       "      <td>14.0</td>\n",
       "      <td>1</td>\n",
       "    </tr>\n",
       "    <tr>\n",
       "      <th>9277</th>\n",
       "      <td>India</td>\n",
       "      <td>2020-05-14</td>\n",
       "      <td>81997</td>\n",
       "      <td>2649</td>\n",
       "      <td>27969</td>\n",
       "      <td>106.0</td>\n",
       "      <td>3942.0</td>\n",
       "      <td>98.0</td>\n",
       "      <td>1569.0</td>\n",
       "      <td>1,380,004,385</td>\n",
       "      <td>12.0</td>\n",
       "      <td>16.0</td>\n",
       "      <td>13.0</td>\n",
       "      <td>1</td>\n",
       "    </tr>\n",
       "    <tr>\n",
       "      <th>9278</th>\n",
       "      <td>India</td>\n",
       "      <td>2020-05-15</td>\n",
       "      <td>85784</td>\n",
       "      <td>2753</td>\n",
       "      <td>30258</td>\n",
       "      <td>107.0</td>\n",
       "      <td>3787.0</td>\n",
       "      <td>104.0</td>\n",
       "      <td>2289.0</td>\n",
       "      <td>1,380,004,385</td>\n",
       "      <td>11.0</td>\n",
       "      <td>16.0</td>\n",
       "      <td>13.0</td>\n",
       "      <td>1</td>\n",
       "    </tr>\n",
       "    <tr>\n",
       "      <th>9279</th>\n",
       "      <td>India</td>\n",
       "      <td>2020-05-16</td>\n",
       "      <td>90648</td>\n",
       "      <td>2871</td>\n",
       "      <td>34224</td>\n",
       "      <td>108.0</td>\n",
       "      <td>4864.0</td>\n",
       "      <td>118.0</td>\n",
       "      <td>3966.0</td>\n",
       "      <td>1,380,004,385</td>\n",
       "      <td>11.0</td>\n",
       "      <td>16.0</td>\n",
       "      <td>12.0</td>\n",
       "      <td>1</td>\n",
       "    </tr>\n",
       "  </tbody>\n",
       "</table>\n",
       "<p>116 rows × 14 columns</p>\n",
       "</div>"
      ],
      "text/plain": [
       "     Country       Date  TotalInfected  TotalDeaths  TotalRecovered    Day  \\\n",
       "9164   India 2020-01-22              0            0               0    NaN   \n",
       "9165   India 2020-01-23              0            0               0    NaN   \n",
       "9166   India 2020-01-24              0            0               0    NaN   \n",
       "9167   India 2020-01-25              0            0               0    NaN   \n",
       "9168   India 2020-01-26              0            0               0    NaN   \n",
       "...      ...        ...            ...          ...             ...    ...   \n",
       "9275   India 2020-05-12          74292         2415           24420  104.0   \n",
       "9276   India 2020-05-13          78055         2551           26400  105.0   \n",
       "9277   India 2020-05-14          81997         2649           27969  106.0   \n",
       "9278   India 2020-05-15          85784         2753           30258  107.0   \n",
       "9279   India 2020-05-16          90648         2871           34224  108.0   \n",
       "\n",
       "      Infected  Deaths  Recovered Population (2020)  InfectedRank  DeathRank  \\\n",
       "9164       NaN     NaN        NaN     1,380,004,385         188.0      188.0   \n",
       "9165       0.0     0.0        0.0     1,380,004,385         188.0      188.0   \n",
       "9166       0.0     0.0        0.0     1,380,004,385         188.0      188.0   \n",
       "9167       0.0     0.0        0.0     1,380,004,385         188.0      188.0   \n",
       "9168       0.0     0.0        0.0     1,380,004,385         188.0      188.0   \n",
       "...        ...     ...        ...               ...           ...        ...   \n",
       "9275    3524.0   121.0     1871.0     1,380,004,385          12.0       16.0   \n",
       "9276    3763.0   136.0     1980.0     1,380,004,385          12.0       16.0   \n",
       "9277    3942.0    98.0     1569.0     1,380,004,385          12.0       16.0   \n",
       "9278    3787.0   104.0     2289.0     1,380,004,385          11.0       16.0   \n",
       "9279    4864.0   118.0     3966.0     1,380,004,385          11.0       16.0   \n",
       "\n",
       "      RecoveredRank  CoutryFlag  \n",
       "9164          188.0           1  \n",
       "9165          188.0           1  \n",
       "9166          188.0           1  \n",
       "9167          188.0           1  \n",
       "9168          188.0           1  \n",
       "...             ...         ...  \n",
       "9275           14.0           1  \n",
       "9276           14.0           1  \n",
       "9277           13.0           1  \n",
       "9278           13.0           1  \n",
       "9279           12.0           1  \n",
       "\n",
       "[116 rows x 14 columns]"
      ]
     },
     "execution_count": 24,
     "metadata": {},
     "output_type": "execute_result"
    }
   ],
   "source": [
    "covid[covid['Country']=='India']"
   ]
  },
  {
   "cell_type": "code",
   "execution_count": 25,
   "metadata": {},
   "outputs": [],
   "source": [
    "covid.to_csv('COVID-19Dataset.csv', index = False, header=True)"
   ]
  }
 ],
 "metadata": {
  "kernelspec": {
   "display_name": "Python 3",
   "language": "python",
   "name": "python3"
  },
  "language_info": {
   "codemirror_mode": {
    "name": "ipython",
    "version": 3
   },
   "file_extension": ".py",
   "mimetype": "text/x-python",
   "name": "python",
   "nbconvert_exporter": "python",
   "pygments_lexer": "ipython3",
   "version": "3.7.3"
  }
 },
 "nbformat": 4,
 "nbformat_minor": 2
}
