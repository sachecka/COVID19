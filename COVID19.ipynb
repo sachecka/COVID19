{
 "cells": [
  {
   "cell_type": "code",
   "execution_count": 1,
   "metadata": {},
   "outputs": [],
   "source": [
    "import numpy as np\n",
    "import pandas as pd\n",
    "import seaborn as sns\n",
    "import matplotlib.pyplot as plt"
   ]
  },
  {
   "cell_type": "code",
   "execution_count": 2,
   "metadata": {},
   "outputs": [],
   "source": [
    "inf = pd.read_csv(\"https://raw.githubusercontent.com/CSSEGISandData/COVID-19/master/csse_covid_19_data/csse_covid_19_time_series/time_series_covid19_confirmed_global.csv\")"
   ]
  },
  {
   "cell_type": "code",
   "execution_count": 3,
   "metadata": {},
   "outputs": [],
   "source": [
    "#Drop Lat, Long and Province/State columns\n",
    "inf.drop(inf.columns[[0, 2, 3]], axis=1, inplace=True)\n",
    "#Rename the country column name\n",
    "inf.rename(columns={'Country/Region':'Country'}, inplace=True)\n",
    "#Group by country to get the sums\n",
    "inf_g = inf.groupby('Country').sum()\n",
    "#Unpivot the data to have the dates in a single column and values in another\n",
    "inf_g = inf_g.unstack().reset_index(name='value')\n",
    "#Rename the columns to appropriate names\n",
    "inf_g.rename(columns={'level_0':'Date','value':'TotalInfected'}, inplace=True)"
   ]
  },
  {
   "cell_type": "code",
   "execution_count": 4,
   "metadata": {},
   "outputs": [],
   "source": [
    "dead=pd.read_csv('https://raw.githubusercontent.com/CSSEGISandData/COVID-19/master/csse_covid_19_data/csse_covid_19_time_series/time_series_covid19_deaths_global.csv')"
   ]
  },
  {
   "cell_type": "code",
   "execution_count": 5,
   "metadata": {},
   "outputs": [],
   "source": [
    "dead.drop(dead.columns[[0, 2, 3]], axis=1, inplace=True)\n",
    "dead.rename(columns={'Country/Region':'Country'}, inplace=True)\n",
    "dead_g = dead.groupby('Country').sum()\n",
    "dead_g = dead_g.unstack().reset_index(name='value')\n",
    "dead_g.rename(columns={'level_0':'Date','value':'TotalDeaths'}, inplace=True)"
   ]
  },
  {
   "cell_type": "code",
   "execution_count": 6,
   "metadata": {},
   "outputs": [],
   "source": [
    "recov = pd.read_csv('https://raw.githubusercontent.com/CSSEGISandData/COVID-19/master/csse_covid_19_data/csse_covid_19_time_series/time_series_covid19_recovered_global.csv')"
   ]
  },
  {
   "cell_type": "code",
   "execution_count": 7,
   "metadata": {},
   "outputs": [],
   "source": [
    "recov.drop(recov.columns[[0, 2, 3]], axis=1, inplace=True)\n",
    "recov.rename(columns={'Country/Region':'Country'}, inplace=True)\n",
    "recov_g = recov.groupby('Country').sum()\n",
    "recov_g = recov_g.unstack().reset_index(name='value')\n",
    "recov_g.rename(columns={'level_0':'Date','value':'TotalRecovered'}, inplace=True)"
   ]
  },
  {
   "cell_type": "code",
   "execution_count": 8,
   "metadata": {},
   "outputs": [],
   "source": [
    "#Merging all the 3 data frames together\n",
    "covid = pd.merge(pd.merge(inf_g, dead_g, how='inner', on=['Country','Date']), recov_g, how='inner',on=['Country','Date'])"
   ]
  },
  {
   "cell_type": "code",
   "execution_count": 9,
   "metadata": {},
   "outputs": [],
   "source": [
    "#Convert the Date field to date datatype\n",
    "covid['Date']= pd.to_datetime(covid['Date'])"
   ]
  },
  {
   "cell_type": "code",
   "execution_count": 10,
   "metadata": {},
   "outputs": [],
   "source": [
    "#Ordering and sorting the columns in the dataframe\n",
    "covid = covid[covid.columns[[1,0,2,3,4]]].sort_values(by=['Country','Date'])"
   ]
  },
  {
   "cell_type": "code",
   "execution_count": 11,
   "metadata": {},
   "outputs": [],
   "source": [
    "#Adding day numbers to the dataset\n",
    "covid['Day']=covid[covid['TotalInfected']>0].groupby('Country')['Date'].rank(ascending=True).astype(int)"
   ]
  },
  {
   "cell_type": "code",
   "execution_count": 12,
   "metadata": {},
   "outputs": [],
   "source": [
    "#Adding daily numbers\n",
    "covid['Infected'] = covid.groupby('Country')['TotalInfected'].diff(periods=1)\n",
    "covid['Deaths'] = covid.groupby('Country')['TotalDeaths'].diff(periods=1)\n",
    "covid['Recovered'] = covid.groupby('Country')['TotalRecovered'].diff(periods=1)"
   ]
  },
  {
   "cell_type": "code",
   "execution_count": 13,
   "metadata": {},
   "outputs": [
    {
     "data": {
      "text/plain": [
       "<matplotlib.axes._subplots.AxesSubplot at 0x12bdff50>"
      ]
     },
     "execution_count": 13,
     "metadata": {},
     "output_type": "execute_result"
    },
    {
     "data": {
      "image/png": "[encoded data removed]",
      "text/plain": [
       "<Figure size 432x288 with 1 Axes>"
      ]
     },
     "metadata": {
      "needs_background": "light"
     },
     "output_type": "display_data"
    }
   ],
   "source": [
    "sns.lineplot(x='Day',y='Infected',data=covid[(covid['TotalInfected']>0) & (covid['Country']=='India')])"
   ]
  },
  {
   "cell_type": "code",
   "execution_count": 14,
   "metadata": {},
   "outputs": [],
   "source": [
    "#get world population data\n",
    "from bs4 import BeautifulSoup\n",
    "import requests\n"
   ]
  },
  {
   "cell_type": "code",
   "execution_count": 15,
   "metadata": {},
   "outputs": [],
   "source": [
    "url = 'https://www.worldometers.info/world-population/population-by-country/'\n",
    "html_content = requests.get(url).text\n",
    "\n",
    "# Parse the html content\n",
    "soup = BeautifulSoup(html_content, \"lxml\")\n",
    "#print(soup.prettify()) # print the parsed data of html"
   ]
  },
  {
   "cell_type": "code",
   "execution_count": 16,
   "metadata": {
    "scrolled": false
   },
   "outputs": [],
   "source": [
    "pop_table = soup.find(\"table\", attrs={\"id\": \"example2\"})\n",
    "pop_table_data = pop_table.tbody.find_all(\"tr\")\n",
    "#pop_table_data"
   ]
  },
  {
   "cell_type": "code",
   "execution_count": 17,
   "metadata": {},
   "outputs": [],
   "source": [
    "# Get all the headings of Lists\n",
    "t_headers = []\n",
    "for th in pop_table.find_all(\"th\"):\n",
    "    # remove any newlines and extra spaces from left and right\n",
    "    t_headers.append(th.text)\n",
    "#t_headers"
   ]
  },
  {
   "cell_type": "code",
   "execution_count": 18,
   "metadata": {},
   "outputs": [],
   "source": [
    "data = {}\n",
    "table_data = []\n",
    "for tr in pop_table.tbody.find_all(\"tr\"):\n",
    "    t_row = {}\n",
    "    for td, th in zip(tr.find_all(\"td\"), t_headers): \n",
    "            t_row[th] = td.text\n",
    "            table_data.append(t_row)\n",
    "        # Put the data for the table with his heading.\n",
    "\n",
    "pop_df = pd.DataFrame(table_data)"
   ]
  },
  {
   "cell_type": "code",
   "execution_count": 19,
   "metadata": {},
   "outputs": [],
   "source": [
    "pop_df = pop_df.drop_duplicates()\n",
    "pop_df.rename(columns={'Country (or dependency)':'Country'}, inplace=True)\n",
    "#pop_df\n"
   ]
  },
  {
   "cell_type": "code",
   "execution_count": 20,
   "metadata": {},
   "outputs": [],
   "source": [
    "covid = pd.merge(covid, pop_df[['Country','Population (2020)']], how='left', on='Country')"
   ]
  },
  {
   "cell_type": "code",
   "execution_count": 21,
   "metadata": {},
   "outputs": [],
   "source": [
    "covid['InfectedRank']=covid.groupby(['Date'])['TotalInfected'].rank(method='max',ascending=False,na_option='bottom')\n",
    "covid['DeathRank']=covid.groupby(['Date'])['TotalDeaths'].rank(method='max',ascending=False,na_option='bottom')\n",
    "covid['RecoveredRank']=covid.groupby(['Date'])['TotalRecovered'].rank(method='max',ascending=False,na_option='bottom')"
   ]
  },
  {
   "cell_type": "code",
   "execution_count": 22,
   "metadata": {},
   "outputs": [
    {
     "data": {
      "text/html": [
       "<div>\n",
       "<style scoped>\n",
       "    .dataframe tbody tr th:only-of-type {\n",
       "        vertical-align: middle;\n",
       "    }\n",
       "\n",
       "    .dataframe tbody tr th {\n",
       "        vertical-align: top;\n",
       "    }\n",
       "\n",
       "    .dataframe thead th {\n",
       "        text-align: right;\n",
       "    }\n",
       "</style>\n",
       "<table border=\"1\" class=\"dataframe\">\n",
       "  <thead>\n",
       "    <tr style=\"text-align: right;\">\n",
       "      <th></th>\n",
       "      <th>Country</th>\n",
       "      <th>Date</th>\n",
       "      <th>TotalInfected</th>\n",
       "      <th>TotalDeaths</th>\n",
       "      <th>TotalRecovered</th>\n",
       "      <th>Day</th>\n",
       "      <th>Infected</th>\n",
       "      <th>Deaths</th>\n",
       "      <th>Recovered</th>\n",
       "      <th>Population (2020)</th>\n",
       "      <th>InfectedRank</th>\n",
       "      <th>DeathRank</th>\n",
       "      <th>RecoveredRank</th>\n",
       "    </tr>\n",
       "  </thead>\n",
       "  <tbody>\n",
       "    <tr>\n",
       "      <th>6162</th>\n",
       "      <td>India</td>\n",
       "      <td>2020-01-22</td>\n",
       "      <td>0</td>\n",
       "      <td>0</td>\n",
       "      <td>0</td>\n",
       "      <td>NaN</td>\n",
       "      <td>NaN</td>\n",
       "      <td>NaN</td>\n",
       "      <td>NaN</td>\n",
       "      <td>1,380,004,385</td>\n",
       "      <td>184.0</td>\n",
       "      <td>184.0</td>\n",
       "      <td>184.0</td>\n",
       "    </tr>\n",
       "    <tr>\n",
       "      <th>6163</th>\n",
       "      <td>India</td>\n",
       "      <td>2020-01-23</td>\n",
       "      <td>0</td>\n",
       "      <td>0</td>\n",
       "      <td>0</td>\n",
       "      <td>NaN</td>\n",
       "      <td>0.0</td>\n",
       "      <td>0.0</td>\n",
       "      <td>0.0</td>\n",
       "      <td>1,380,004,385</td>\n",
       "      <td>184.0</td>\n",
       "      <td>184.0</td>\n",
       "      <td>184.0</td>\n",
       "    </tr>\n",
       "    <tr>\n",
       "      <th>6164</th>\n",
       "      <td>India</td>\n",
       "      <td>2020-01-24</td>\n",
       "      <td>0</td>\n",
       "      <td>0</td>\n",
       "      <td>0</td>\n",
       "      <td>NaN</td>\n",
       "      <td>0.0</td>\n",
       "      <td>0.0</td>\n",
       "      <td>0.0</td>\n",
       "      <td>1,380,004,385</td>\n",
       "      <td>184.0</td>\n",
       "      <td>184.0</td>\n",
       "      <td>184.0</td>\n",
       "    </tr>\n",
       "    <tr>\n",
       "      <th>6165</th>\n",
       "      <td>India</td>\n",
       "      <td>2020-01-25</td>\n",
       "      <td>0</td>\n",
       "      <td>0</td>\n",
       "      <td>0</td>\n",
       "      <td>NaN</td>\n",
       "      <td>0.0</td>\n",
       "      <td>0.0</td>\n",
       "      <td>0.0</td>\n",
       "      <td>1,380,004,385</td>\n",
       "      <td>184.0</td>\n",
       "      <td>184.0</td>\n",
       "      <td>184.0</td>\n",
       "    </tr>\n",
       "    <tr>\n",
       "      <th>6166</th>\n",
       "      <td>India</td>\n",
       "      <td>2020-01-26</td>\n",
       "      <td>0</td>\n",
       "      <td>0</td>\n",
       "      <td>0</td>\n",
       "      <td>NaN</td>\n",
       "      <td>0.0</td>\n",
       "      <td>0.0</td>\n",
       "      <td>0.0</td>\n",
       "      <td>1,380,004,385</td>\n",
       "      <td>184.0</td>\n",
       "      <td>184.0</td>\n",
       "      <td>184.0</td>\n",
       "    </tr>\n",
       "    <tr>\n",
       "      <th>...</th>\n",
       "      <td>...</td>\n",
       "      <td>...</td>\n",
       "      <td>...</td>\n",
       "      <td>...</td>\n",
       "      <td>...</td>\n",
       "      <td>...</td>\n",
       "      <td>...</td>\n",
       "      <td>...</td>\n",
       "      <td>...</td>\n",
       "      <td>...</td>\n",
       "      <td>...</td>\n",
       "      <td>...</td>\n",
       "      <td>...</td>\n",
       "    </tr>\n",
       "    <tr>\n",
       "      <th>6236</th>\n",
       "      <td>India</td>\n",
       "      <td>2020-04-05</td>\n",
       "      <td>3588</td>\n",
       "      <td>99</td>\n",
       "      <td>229</td>\n",
       "      <td>67.0</td>\n",
       "      <td>506.0</td>\n",
       "      <td>13.0</td>\n",
       "      <td>0.0</td>\n",
       "      <td>1,380,004,385</td>\n",
       "      <td>31.0</td>\n",
       "      <td>26.0</td>\n",
       "      <td>37.0</td>\n",
       "    </tr>\n",
       "    <tr>\n",
       "      <th>6237</th>\n",
       "      <td>India</td>\n",
       "      <td>2020-04-06</td>\n",
       "      <td>4778</td>\n",
       "      <td>136</td>\n",
       "      <td>375</td>\n",
       "      <td>68.0</td>\n",
       "      <td>1190.0</td>\n",
       "      <td>37.0</td>\n",
       "      <td>146.0</td>\n",
       "      <td>1,380,004,385</td>\n",
       "      <td>27.0</td>\n",
       "      <td>26.0</td>\n",
       "      <td>30.0</td>\n",
       "    </tr>\n",
       "    <tr>\n",
       "      <th>6238</th>\n",
       "      <td>India</td>\n",
       "      <td>2020-04-07</td>\n",
       "      <td>5311</td>\n",
       "      <td>150</td>\n",
       "      <td>421</td>\n",
       "      <td>69.0</td>\n",
       "      <td>533.0</td>\n",
       "      <td>14.0</td>\n",
       "      <td>46.0</td>\n",
       "      <td>1,380,004,385</td>\n",
       "      <td>24.0</td>\n",
       "      <td>26.0</td>\n",
       "      <td>31.0</td>\n",
       "    </tr>\n",
       "    <tr>\n",
       "      <th>6239</th>\n",
       "      <td>India</td>\n",
       "      <td>2020-04-08</td>\n",
       "      <td>5916</td>\n",
       "      <td>178</td>\n",
       "      <td>506</td>\n",
       "      <td>70.0</td>\n",
       "      <td>605.0</td>\n",
       "      <td>28.0</td>\n",
       "      <td>85.0</td>\n",
       "      <td>1,380,004,385</td>\n",
       "      <td>24.0</td>\n",
       "      <td>26.0</td>\n",
       "      <td>28.0</td>\n",
       "    </tr>\n",
       "    <tr>\n",
       "      <th>6240</th>\n",
       "      <td>India</td>\n",
       "      <td>2020-04-09</td>\n",
       "      <td>6725</td>\n",
       "      <td>226</td>\n",
       "      <td>620</td>\n",
       "      <td>71.0</td>\n",
       "      <td>809.0</td>\n",
       "      <td>48.0</td>\n",
       "      <td>114.0</td>\n",
       "      <td>1,380,004,385</td>\n",
       "      <td>21.0</td>\n",
       "      <td>24.0</td>\n",
       "      <td>27.0</td>\n",
       "    </tr>\n",
       "  </tbody>\n",
       "</table>\n",
       "<p>79 rows × 13 columns</p>\n",
       "</div>"
      ],
      "text/plain": [
       "     Country       Date  TotalInfected  TotalDeaths  TotalRecovered   Day  \\\n",
       "6162   India 2020-01-22              0            0               0   NaN   \n",
       "6163   India 2020-01-23              0            0               0   NaN   \n",
       "6164   India 2020-01-24              0            0               0   NaN   \n",
       "6165   India 2020-01-25              0            0               0   NaN   \n",
       "6166   India 2020-01-26              0            0               0   NaN   \n",
       "...      ...        ...            ...          ...             ...   ...   \n",
       "6236   India 2020-04-05           3588           99             229  67.0   \n",
       "6237   India 2020-04-06           4778          136             375  68.0   \n",
       "6238   India 2020-04-07           5311          150             421  69.0   \n",
       "6239   India 2020-04-08           5916          178             506  70.0   \n",
       "6240   India 2020-04-09           6725          226             620  71.0   \n",
       "\n",
       "      Infected  Deaths  Recovered Population (2020)  InfectedRank  DeathRank  \\\n",
       "6162       NaN     NaN        NaN     1,380,004,385         184.0      184.0   \n",
       "6163       0.0     0.0        0.0     1,380,004,385         184.0      184.0   \n",
       "6164       0.0     0.0        0.0     1,380,004,385         184.0      184.0   \n",
       "6165       0.0     0.0        0.0     1,380,004,385         184.0      184.0   \n",
       "6166       0.0     0.0        0.0     1,380,004,385         184.0      184.0   \n",
       "...        ...     ...        ...               ...           ...        ...   \n",
       "6236     506.0    13.0        0.0     1,380,004,385          31.0       26.0   \n",
       "6237    1190.0    37.0      146.0     1,380,004,385          27.0       26.0   \n",
       "6238     533.0    14.0       46.0     1,380,004,385          24.0       26.0   \n",
       "6239     605.0    28.0       85.0     1,380,004,385          24.0       26.0   \n",
       "6240     809.0    48.0      114.0     1,380,004,385          21.0       24.0   \n",
       "\n",
       "      RecoveredRank  \n",
       "6162          184.0  \n",
       "6163          184.0  \n",
       "6164          184.0  \n",
       "6165          184.0  \n",
       "6166          184.0  \n",
       "...             ...  \n",
       "6236           37.0  \n",
       "6237           30.0  \n",
       "6238           31.0  \n",
       "6239           28.0  \n",
       "6240           27.0  \n",
       "\n",
       "[79 rows x 13 columns]"
      ]
     },
     "execution_count": 22,
     "metadata": {},
     "output_type": "execute_result"
    }
   ],
   "source": [
    "covid[covid['Country']=='India']"
   ]
  },
  {
   "cell_type": "code",
   "execution_count": 23,
   "metadata": {},
   "outputs": [],
   "source": [
    "covid.to_csv('COVID-19Dataset.csv', index = False, header=True)"
   ]
  }
 ],
 "metadata": {
  "kernelspec": {
   "display_name": "Python 3",
   "language": "python",
   "name": "python3"
  },
  "language_info": {
   "codemirror_mode": {
    "name": "ipython",
    "version": 3
   },
   "file_extension": ".py",
   "mimetype": "text/x-python",
   "name": "python",
   "nbconvert_exporter": "python",
   "pygments_lexer": "ipython3",
   "version": "3.7.3"
  }
 },
 "nbformat": 4,
 "nbformat_minor": 2
}
